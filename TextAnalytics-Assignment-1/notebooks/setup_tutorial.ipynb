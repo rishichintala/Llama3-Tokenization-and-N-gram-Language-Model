{
 "cells": [
  {
   "cell_type": "markdown",
   "metadata": {},
   "source": []
  },
  {
   "cell_type": "markdown",
   "metadata": {},
   "source": [
    "# Python Environment Manager and Package Management"
   ]
  },
  {
   "cell_type": "markdown",
   "metadata": {},
   "source": [
    "## Conda vs. Mamba vs. Venv"
   ]
  },
  {
   "cell_type": "code",
   "execution_count": 2,
   "metadata": {},
   "outputs": [
    {
     "name": "stdout",
     "output_type": "stream",
     "text": [
      "Requirement already satisfied: transformers in /Users/jcao/mamba/envs/cs5293-1/lib/python3.10/site-packages (4.48.0)\n",
      "Requirement already satisfied: numpy in /Users/jcao/mamba/envs/cs5293-1/lib/python3.10/site-packages (2.2.1)\n",
      "Requirement already satisfied: torch in /Users/jcao/mamba/envs/cs5293-1/lib/python3.10/site-packages (2.5.1)\n",
      "Requirement already satisfied: filelock in /Users/jcao/mamba/envs/cs5293-1/lib/python3.10/site-packages (from transformers) (3.16.1)\n",
      "Requirement already satisfied: huggingface-hub<1.0,>=0.24.0 in /Users/jcao/mamba/envs/cs5293-1/lib/python3.10/site-packages (from transformers) (0.27.1)\n",
      "Requirement already satisfied: packaging>=20.0 in /Users/jcao/mamba/envs/cs5293-1/lib/python3.10/site-packages (from transformers) (24.2)\n",
      "Requirement already satisfied: pyyaml>=5.1 in /Users/jcao/mamba/envs/cs5293-1/lib/python3.10/site-packages (from transformers) (6.0.2)\n",
      "Requirement already satisfied: regex!=2019.12.17 in /Users/jcao/mamba/envs/cs5293-1/lib/python3.10/site-packages (from transformers) (2024.11.6)\n",
      "Requirement already satisfied: requests in /Users/jcao/mamba/envs/cs5293-1/lib/python3.10/site-packages (from transformers) (2.32.3)\n",
      "Requirement already satisfied: tokenizers<0.22,>=0.21 in /Users/jcao/mamba/envs/cs5293-1/lib/python3.10/site-packages (from transformers) (0.21.0)\n",
      "Requirement already satisfied: safetensors>=0.4.1 in /Users/jcao/mamba/envs/cs5293-1/lib/python3.10/site-packages (from transformers) (0.5.2)\n",
      "Requirement already satisfied: tqdm>=4.27 in /Users/jcao/mamba/envs/cs5293-1/lib/python3.10/site-packages (from transformers) (4.67.1)\n",
      "Requirement already satisfied: typing-extensions>=4.8.0 in /Users/jcao/mamba/envs/cs5293-1/lib/python3.10/site-packages (from torch) (4.12.2)\n",
      "Requirement already satisfied: networkx in /Users/jcao/mamba/envs/cs5293-1/lib/python3.10/site-packages (from torch) (3.4.2)\n",
      "Requirement already satisfied: jinja2 in /Users/jcao/mamba/envs/cs5293-1/lib/python3.10/site-packages (from torch) (3.1.5)\n",
      "Requirement already satisfied: fsspec in /Users/jcao/mamba/envs/cs5293-1/lib/python3.10/site-packages (from torch) (2024.9.0)\n",
      "Requirement already satisfied: sympy==1.13.1 in /Users/jcao/mamba/envs/cs5293-1/lib/python3.10/site-packages (from torch) (1.13.1)\n",
      "Requirement already satisfied: mpmath<1.4,>=1.1.0 in /Users/jcao/mamba/envs/cs5293-1/lib/python3.10/site-packages (from sympy==1.13.1->torch) (1.3.0)\n",
      "Requirement already satisfied: MarkupSafe>=2.0 in /Users/jcao/mamba/envs/cs5293-1/lib/python3.10/site-packages (from jinja2->torch) (3.0.2)\n",
      "Requirement already satisfied: charset_normalizer<4,>=2 in /Users/jcao/mamba/envs/cs5293-1/lib/python3.10/site-packages (from requests->transformers) (3.4.1)\n",
      "Requirement already satisfied: idna<4,>=2.5 in /Users/jcao/mamba/envs/cs5293-1/lib/python3.10/site-packages (from requests->transformers) (3.10)\n",
      "Requirement already satisfied: urllib3<3,>=1.21.1 in /Users/jcao/mamba/envs/cs5293-1/lib/python3.10/site-packages (from requests->transformers) (2.3.0)\n",
      "Requirement already satisfied: certifi>=2017.4.17 in /Users/jcao/mamba/envs/cs5293-1/lib/python3.10/site-packages (from requests->transformers) (2024.12.14)\n",
      "\n",
      "       libmamba version : 2.0.5\n",
      "          mamba version : 2.0.5\n",
      "           curl version : libcurl/8.7.1 (SecureTransport) LibreSSL/3.3.6 zlib/1.2.12 nghttp2/1.63.0\n",
      "     libarchive version : libarchive 3.7.7 zlib/1.2.12 liblzma/5.6.3 bz2lib/1.0.8 liblz4/1.10.0 libzstd/1.5.6\n",
      "       envs directories : /Users/jcao/mamba/envs\n",
      "          package cache : /Users/jcao/mamba/pkgs\n",
      "                          /Users/jcao/.mamba/pkgs\n",
      "            environment : cs5293-1 (active)\n",
      "           env location : /Users/jcao/mamba/envs/cs5293-1\n",
      "      user config files : /Users/jcao/.mambarc\n",
      " populated config files : \n",
      "       virtual packages : __unix=0=0\n",
      "                          __osx=15.2=0\n",
      "                          __archspec=1=arm64\n",
      "               channels : https://conda.anaconda.org/conda-forge/noarch\n",
      "                          https://conda.anaconda.org/conda-forge/osx-arm64\n",
      "       base environment : /Users/jcao/mamba\n",
      "               platform : osx-arm64\n"
     ]
    }
   ],
   "source": [
    "%%bash\n",
    "# user guide https://mamba.readthedocs.io/en/latest/user_guide/mamba.html\n",
    "# mamba is just a faster conda, which uses the conda repos but simply faster.\n",
    "# Here is tutorial for mamba: https://statistics.berkeley.edu/computing/conda\n",
    "pip install transformers numpy torch\n",
    "mamba info"
   ]
  },
  {
   "cell_type": "markdown",
   "metadata": {},
   "source": [
    "## Use Conda in Google Colab (ignoring this if you are running this on local environment)"
   ]
  },
  {
   "cell_type": "markdown",
   "metadata": {},
   "source": [
    "\n",
    "If you don't have a laptop, and a tablet or phone is you have, or you only want to use a browser for coding this course. Then you should consider using Google Colab.\n",
    "Here is a tutorial on using Conda on Google Colab.\n",
    "https://colab.research.google.com/drive/1c_RGCgQeLHVXlF44LyOFjfUW32CmG6BP\n",
    "\n",
    "Key points:\n",
    "1. On Google Colab, you only can use `base` environment in google colab even if you create a new environment. NO WORKAROUND SO FAR!!!\n",
    "2. However, you could update the base environment with new packages, including python version, and other pacakges."
   ]
  },
  {
   "cell_type": "code",
   "execution_count": 9,
   "metadata": {},
   "outputs": [],
   "source": [
    "# If you plan to use google colab do the following three lines for conda setup.\n",
    "!pip install -q condacolab"
   ]
  },
  {
   "cell_type": "code",
   "execution_count": null,
   "metadata": {},
   "outputs": [],
   "source": [
    "import condacolab\n",
    "condacolab.install()\n",
    "# you may need to restart your runtime kernel to make it take effect!"
   ]
  },
  {
   "cell_type": "markdown",
   "metadata": {},
   "source": [
    "### Check the Conda for Google Colab Setup"
   ]
  },
  {
   "cell_type": "code",
   "execution_count": null,
   "metadata": {},
   "outputs": [],
   "source": [
    "import condacolab\n",
    "condacolab.check()"
   ]
  },
  {
   "cell_type": "markdown",
   "metadata": {},
   "source": [
    "## Pip (Using pip  to install all python related libraries)"
   ]
  },
  {
   "cell_type": "markdown",
   "metadata": {},
   "source": [
    "# Introducing Jupyter NoteBook"
   ]
  },
  {
   "cell_type": "markdown",
   "metadata": {},
   "source": [
    "In a Jupyter Notebook, the \"!\" symbol is used to run a shell command directly from within a code cell, while the \"%\" symbol is used to execute \"magic commands\" which are special functions provided by the IPython kernel, allowing for more advanced operations like controlling cell behavior or manipulating data within the notebook itself. https://opensarlab-docs.asf.alaska.edu/user-guides/jupyter_magic/#:~:text=In%20IPython%20syntax%2C%20the%20exclamation,the%20command%20in%20the%20shell.\n",
    "\n",
    "%%Cell magics start with %% and affect the contents of an entire cell."
   ]
  },
  {
   "cell_type": "code",
   "execution_count": 1,
   "metadata": {},
   "outputs": [
    {
     "name": "stdout",
     "output_type": "stream",
     "text": [
      "total 192\n",
      "-rw-r--r--@ 1 jcao  staff  58244 Jan 21 17:32 Assignment_1.ipynb\n",
      "-rw-r--r--@ 1 jcao  staff  14341 Jan 21 01:33 check_word.ipynb\n",
      "-rw-r--r--@ 1 jcao  staff  17690 Jan 21 01:33 setup_tutorial.ipynb\n",
      "jcao\n"
     ]
    }
   ],
   "source": [
    "%%bash\n",
    "ls -l\n",
    "whoami"
   ]
  },
  {
   "cell_type": "markdown",
   "metadata": {},
   "source": [
    "However, when we just execute a single line of command. We could just ! to start that command line. In this tutorial, we use both %%bash or ! for running linux commands."
   ]
  },
  {
   "cell_type": "code",
   "execution_count": 5,
   "metadata": {},
   "outputs": [
    {
     "name": "stdout",
     "output_type": "stream",
     "text": [
      "total 128\n",
      "-rw-r--r--@ 1 jcao  staff    24K Jan 19 18:02 Assignment_1.ipynb\n",
      "-rw-r--r--@ 1 jcao  staff    11K Jan 18 10:28 UsingWordNet.ipynb\n",
      "-rw-r--r--@ 1 jcao  staff   8.5K Jan 19 18:42 get_bert_vocab.ipynb\n",
      "-rw-r--r--@ 1 jcao  staff   8.8K Jan 19 14:41 setup_tutorial.ipynb\n"
     ]
    }
   ],
   "source": [
    "!ls -hl"
   ]
  },
  {
   "cell_type": "code",
   "execution_count": 23,
   "metadata": {},
   "outputs": [
    {
     "name": "stdout",
     "output_type": "stream",
     "text": [
      "@global is initialized the file is run or load: Hello, World!\n",
      "Main functon\n",
      "Base Init\n",
      "Base Init\n",
      "================================================\n",
      "BeforeSay:1737316319.656283\n",
      "using are using passArg_say:\n",
      "Hello CS-5293 guys!\n",
      "AfterSay: 1737316319.656296\n",
      "================================================\n",
      "================================================\n",
      "BeforeSay:1737316319.6563\n",
      "using are using passArg_say for 3 times (case_senstive=False):\n",
      "hello cs-5293 students!\n",
      "hello cs-5293 students!\n",
      "hello cs-5293 students!\n",
      "AfterSay: 1737316319.656306\n",
      "================================================\n",
      "================================================\n",
      "BeforeSay:1737316319.656309\n",
      "using are using callFunc_say for 3 times (case_senstive=False):\n",
      "\n",
      "@say_hello: Hello, world!\n",
      "@say_hello: Hello, world!\n",
      "@say_hello: Hello, world!\n",
      "AfterSay: 1737316319.656314\n",
      "================================================\n"
     ]
    }
   ],
   "source": [
    "%%bash\n",
    "# In a terminal, you could run a Python file(.py) directly\n",
    "python src/python_tutorial/hello_world.py"
   ]
  },
  {
   "cell_type": "code",
   "execution_count": 33,
   "metadata": {},
   "outputs": [
    {
     "name": "stdout",
     "output_type": "stream",
     "text": [
      "current python path is:\n",
      "/Users/jcao/git-workspace/assignment-1\n",
      "/Users/jcao/mamba/envs/cs5293-0/lib/python310.zip\n",
      "/Users/jcao/mamba/envs/cs5293-0/lib/python3.10\n",
      "/Users/jcao/mamba/envs/cs5293-0/lib/python3.10/lib-dynload\n",
      "/Users/jcao/mamba/envs/cs5293-0/lib/python3.10/site-packages\n",
      "__init__.py is used to better organize code and to run any initialization that should be run automatically when the package is imported\n",
      "@global is initialized the file is run or load: Hello, World!\n",
      "Main functon\n",
      "Base Init\n",
      "Base Init\n",
      "================================================\n",
      "BeforeSay:1737317857.907497\n",
      "using are using passArg_say:\n",
      "Hello CS-5293 guys!\n",
      "AfterSay: 1737317857.907507\n",
      "================================================\n",
      "================================================\n",
      "BeforeSay:1737317857.90751\n",
      "using are using passArg_say for 3 times (case_senstive=False):\n",
      "hello cs-5293 students!\n",
      "hello cs-5293 students!\n",
      "hello cs-5293 students!\n",
      "AfterSay: 1737317857.907514\n",
      "================================================\n",
      "================================================\n",
      "BeforeSay:1737317857.907516\n",
      "using are using callFunc_say for 3 times (case_senstive=False):\n",
      "\n",
      "@say_hello: hello, world!\n",
      "@say_hello: hello, world!\n",
      "@say_hello: hello, world!\n",
      "AfterSay: 1737317857.907519\n",
      "================================================\n"
     ]
    }
   ],
   "source": [
    "%%bash\n",
    "# Alternatively, in Python, every single Python file(.py) is a Python \"Module\". You could also use -m swith to call a module directly.\n",
    "python -m src.python_tutorial.hello_world"
   ]
  },
  {
   "cell_type": "markdown",
   "metadata": {},
   "source": [
    "However, you could not directly call a package, where a python package a collection of modules.\n"
   ]
  },
  {
   "cell_type": "markdown",
   "metadata": {},
   "source": [
    "# Pythonic Python\n",
    "Please try to learn by youself about these free resourse on Pythonic Python:\n",
    "https://builtin.com/data-science/pythonic#:~:text=Pythonic%20is%20a%20term%20used,and%20not%20deciphering%20existing%20code."
   ]
  },
  {
   "cell_type": "markdown",
   "metadata": {},
   "source": [
    "It is your design choices on how to design python modules, packages, subpackages. But it is often better to put the reuseable code into \".py\" file and put them out of the jupyter notebook.\n",
    "Furthermore, to distinguish your own reuseable code with external libraries. It is recommended to alwasy keep a \"src\" folder for your own modules.\n",
    "Google Python Guideline: https://google.github.io/styleguide/pyguide.html\n",
    "Then you could use the designed modules/packages/subpackages in the jupyter notebooks."
   ]
  },
  {
   "cell_type": "code",
   "execution_count": 44,
   "metadata": {},
   "outputs": [
    {
     "name": "stdout",
     "output_type": "stream",
     "text": [
      "The global variable 'case_sensitive' will be imported to the notebook, True\n",
      "The global func 'say_helloworld' will be imported to the notebook, hello\n"
     ]
    }
   ],
   "source": [
    "import sys\n",
    "# explictly to add your local src into the PYTHONPATH\n",
    "sys.path.append(\"src\")\n",
    "from python_tutorial import hello_world\n",
    "\n",
    "print(f\"The global variable 'case_sensitive' will be imported to the notebook, {hello_world.case_sensitive}\")\n",
    "print(f\"The global func 'say_helloworld' will be imported to the notebook, {hello_world.hello_str(case_sensitive=False)}\")"
   ]
  },
  {
   "cell_type": "code",
   "execution_count": 24,
   "metadata": {},
   "outputs": [
    {
     "name": "stderr",
     "output_type": "stream",
     "text": [
      "/Users/jcao/mamba/envs/cs5293-0/bin/python: No module named src.__main__; 'src' is a package and cannot be directly executed\n",
      "/Users/jcao/mamba/envs/cs5293-0/bin/python: No module named src.python_tutorial.__main__; 'src.python_tutorial' is a package and cannot be directly executed\n"
     ]
    },
    {
     "name": "stdout",
     "output_type": "stream",
     "text": [
      "__init__.py is used to better organize code and to run any initialization that should be run automatically when the package is imported\n",
      "__init__.py is used to better organize code and to run any initialization that should be run automatically when the package is imported\n",
      "@global is initialized the file is run or load: Hello, World!\n",
      "Main functon\n",
      "Base Init\n",
      "Base Init\n",
      "================================================\n",
      "BeforeSay:1737316953.509111\n",
      "using are using passArg_say:\n",
      "Hello CS-5293 guys!\n",
      "AfterSay: 1737316953.509123\n",
      "================================================\n",
      "================================================\n",
      "BeforeSay:1737316953.509126\n",
      "using are using passArg_say for 3 times (case_senstive=False):\n",
      "hello cs-5293 students!\n",
      "hello cs-5293 students!\n",
      "hello cs-5293 students!\n",
      "AfterSay: 1737316953.50913\n",
      "================================================\n",
      "================================================\n",
      "BeforeSay:1737316953.509133\n",
      "using are using callFunc_say for 3 times (case_senstive=False):\n",
      "\n",
      "@say_hello: hello, world!\n",
      "@say_hello: hello, world!\n",
      "@say_hello: hello, world!\n",
      "AfterSay: 1737316953.509136\n",
      "================================================\n"
     ]
    }
   ],
   "source": [
    "%%bash\n",
    "# Alternatively, in Python, every single Python file(.py) is a Python \"Module\". You could also use -m swith to call a module directly.\n",
    "python -m src\n",
    "python -m src.python_tutorial\n",
    "python -m src.python_tutorial.hello_world"
   ]
  }
 ],
 "metadata": {
  "kernelspec": {
   "display_name": "cs5293-1",
   "language": "python",
   "name": "python3"
  },
  "language_info": {
   "codemirror_mode": {
    "name": "ipython",
    "version": 3
   },
   "file_extension": ".py",
   "mimetype": "text/x-python",
   "name": "python",
   "nbconvert_exporter": "python",
   "pygments_lexer": "ipython3",
   "version": "3.10.16"
  }
 },
 "nbformat": 4,
 "nbformat_minor": 2
}

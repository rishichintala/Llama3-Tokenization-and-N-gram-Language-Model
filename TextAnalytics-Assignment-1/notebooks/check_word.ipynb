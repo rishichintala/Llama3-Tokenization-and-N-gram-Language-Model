{
 "cells": [
  {
   "cell_type": "markdown",
   "id": "8bd92818",
   "metadata": {},
   "source": [
    "# Example of AI Usage\n",
    "\n",
    "When you search the problem \"How to lookup a word in an English dictionary using Python\"\n",
    "The Gemini in google search will tell you three ways, (1) PyDictionary (2) WordNet (3) Custom Dictionary. However, the PyDictionary is not good, and doesn't work well, please ignore."
   ]
  },
  {
   "cell_type": "markdown",
   "id": "0cfaf1bb",
   "metadata": {},
   "source": [
    "# [Using WordNet](https://wordnet.princeton.edu)"
   ]
  },
  {
   "cell_type": "code",
   "execution_count": 16,
   "id": "afbbc468",
   "metadata": {},
   "outputs": [
    {
     "name": "stderr",
     "output_type": "stream",
     "text": [
      "\n",
      "CondaError: Run 'conda init' before 'conda activate'\n",
      "\n"
     ]
    },
    {
     "name": "stdout",
     "output_type": "stream",
     "text": [
      "Requirement already satisfied: nltk in /Users/sairishith/miniforge3/envs/cs5293-1/lib/python3.10/site-packages (3.9.1)\n",
      "Requirement already satisfied: click in /Users/sairishith/miniforge3/envs/cs5293-1/lib/python3.10/site-packages (from nltk) (8.1.8)\n",
      "Requirement already satisfied: joblib in /Users/sairishith/miniforge3/envs/cs5293-1/lib/python3.10/site-packages (from nltk) (1.4.2)\n",
      "Requirement already satisfied: regex>=2021.8.3 in /Users/sairishith/miniforge3/envs/cs5293-1/lib/python3.10/site-packages (from nltk) (2024.11.6)\n",
      "Requirement already satisfied: tqdm in /Users/sairishith/miniforge3/envs/cs5293-1/lib/python3.10/site-packages (from nltk) (4.67.1)\n"
     ]
    }
   ],
   "source": [
    "%%bash\n",
    "conda activate cs5293-1\n",
    "pip install nltk"
   ]
  },
  {
   "cell_type": "code",
   "execution_count": 17,
   "id": "4bc456f1",
   "metadata": {},
   "outputs": [
    {
     "name": "stderr",
     "output_type": "stream",
     "text": [
      "[nltk_data] Downloading package wordnet to\n",
      "[nltk_data]     /Users/sairishith/nltk_data...\n",
      "[nltk_data]   Package wordnet is already up-to-date!\n"
     ]
    },
    {
     "data": {
      "text/plain": [
       "True"
      ]
     },
     "execution_count": 17,
     "metadata": {},
     "output_type": "execute_result"
    }
   ],
   "source": [
    "# download the wordnet using nltk \n",
    "\n",
    "import nltk\n",
    "nltk.download('wordnet')"
   ]
  },
  {
   "cell_type": "code",
   "execution_count": 18,
   "id": "828cfca2",
   "metadata": {},
   "outputs": [
    {
     "data": {
      "text/plain": [
       "['eng',\n",
       " 'als',\n",
       " 'arb',\n",
       " 'bul',\n",
       " 'cmn',\n",
       " 'dan',\n",
       " 'ell',\n",
       " 'fin',\n",
       " 'fra',\n",
       " 'heb',\n",
       " 'hrv',\n",
       " 'isl',\n",
       " 'ita',\n",
       " 'ita_iwn',\n",
       " 'jpn',\n",
       " 'cat',\n",
       " 'eus',\n",
       " 'glg',\n",
       " 'spa',\n",
       " 'ind',\n",
       " 'zsm',\n",
       " 'nld',\n",
       " 'nno',\n",
       " 'nob',\n",
       " 'pol',\n",
       " 'por',\n",
       " 'ron',\n",
       " 'lit',\n",
       " 'slk',\n",
       " 'slv',\n",
       " 'swe',\n",
       " 'tha']"
      ]
     },
     "execution_count": 18,
     "metadata": {},
     "output_type": "execute_result"
    }
   ],
   "source": [
    "from nltk.corpus import wordnet as wn\n",
    "# The WordNet corpus reader gives access to the Open Multilingual WordNet, \n",
    "# using ISO-639 language codes. \n",
    "# These languages are not loaded by default, but only lazily, when needed.\n",
    "wn.langs()"
   ]
  },
  {
   "cell_type": "code",
   "execution_count": 19,
   "id": "8f18d938",
   "metadata": {},
   "outputs": [
    {
     "name": "stderr",
     "output_type": "stream",
     "text": [
      "[nltk_data] Downloading package omw-1.4 to\n",
      "[nltk_data]     /Users/sairishith/nltk_data...\n",
      "[nltk_data]   Package omw-1.4 is already up-to-date!\n"
     ]
    },
    {
     "data": {
      "text/plain": [
       "['いぬ',\n",
       " 'まわし者',\n",
       " 'スパイ',\n",
       " '回し者',\n",
       " '回者',\n",
       " '密偵',\n",
       " '工作員',\n",
       " '廻し者',\n",
       " '廻者',\n",
       " '探',\n",
       " '探り',\n",
       " '犬',\n",
       " '秘密捜査員',\n",
       " '諜報員',\n",
       " '諜者',\n",
       " '間者',\n",
       " '間諜',\n",
       " '隠密']"
      ]
     },
     "execution_count": 19,
     "metadata": {},
     "output_type": "execute_result"
    }
   ],
   "source": [
    "# download the Open Multilingual WordNet\n",
    "nltk.download('omw-1.4')\n",
    "wn.synset('spy.n.01').lemma_names('jpn')\n"
   ]
  },
  {
   "cell_type": "code",
   "execution_count": 20,
   "id": "4cddce0c",
   "metadata": {},
   "outputs": [
    {
     "data": {
      "text/plain": [
       "['als',\n",
       " 'arb',\n",
       " 'bul',\n",
       " 'cat',\n",
       " 'cmn',\n",
       " 'dan',\n",
       " 'ell',\n",
       " 'eng',\n",
       " 'eus',\n",
       " 'fin',\n",
       " 'fra',\n",
       " 'glg',\n",
       " 'heb',\n",
       " 'hrv',\n",
       " 'ind',\n",
       " 'isl',\n",
       " 'ita',\n",
       " 'ita_iwn',\n",
       " 'jpn',\n",
       " 'lit',\n",
       " 'nld',\n",
       " 'nno',\n",
       " 'nob',\n",
       " 'pol',\n",
       " 'por',\n",
       " 'ron',\n",
       " 'slk',\n",
       " 'slv',\n",
       " 'spa',\n",
       " 'swe',\n",
       " 'tha',\n",
       " 'zsm']"
      ]
     },
     "execution_count": 20,
     "metadata": {},
     "output_type": "execute_result"
    }
   ],
   "source": [
    "# Now the wordnet is downloaded and we can access the words in different languages\n",
    "sorted(wn.langs())"
   ]
  },
  {
   "cell_type": "code",
   "execution_count": 21,
   "id": "1b08c4d1",
   "metadata": {},
   "outputs": [
    {
     "name": "stdout",
     "output_type": "stream",
     "text": [
      "Number of words (lemmas) in English WordNet: 147306\n"
     ]
    }
   ],
   "source": [
    "print(\"Number of words (lemmas) in English WordNet:\", len(list(wn.words())))"
   ]
  },
  {
   "cell_type": "code",
   "execution_count": 22,
   "id": "6cdb4ce8",
   "metadata": {},
   "outputs": [
    {
     "name": "stdout",
     "output_type": "stream",
     "text": [
      "Number of senses for the word spy: 6\n",
      "The test word spy exists, and the first sense: (military) a secret agent hired by a state to obtain information about its enemies or by a business to obtain industrial secrets from competitors\n"
     ]
    }
   ],
   "source": [
    "#test_word = \"7788\" # non-existent word\n",
    "test_word = \"spy\" # existent word\n",
    "eg_synsets = wn.synsets(test_word)\n",
    "print(f\"Number of senses for the word {test_word}: {len(eg_synsets)}\")\n",
    "# checking if the word exists in the wordnet\n",
    "if len(eg_synsets) > 0:\n",
    "    print(f\"The test word {test_word} exists, and the first sense: {eg_synsets[0].definition()}\")"
   ]
  },
  {
   "cell_type": "code",
   "execution_count": 23,
   "id": "e89f3e42",
   "metadata": {},
   "outputs": [
    {
     "name": "stdout",
     "output_type": "stream",
     "text": [
      "Synset('spy.n.01')\n"
     ]
    }
   ],
   "source": [
    "# first sense (most common usage for look)\n",
    "eg_sense_1 = eg_synsets[0]\n",
    "print(eg_sense_1)"
   ]
  },
  {
   "cell_type": "code",
   "execution_count": 24,
   "id": "e7834f5c",
   "metadata": {},
   "outputs": [
    {
     "name": "stdout",
     "output_type": "stream",
     "text": [
      "Lemma: spy\n",
      "POS: n\n",
      "Definition: (military) a secret agent hired by a state to obtain information about its enemies or by a business to obtain industrial secrets from competitors\n",
      "Example Usage: \n"
     ]
    }
   ],
   "source": [
    "# Let's see what is in this sense\n",
    "\n",
    "# lemma\n",
    "print('Lemma:', eg_sense_1.lemmas()[0].name())\n",
    "\n",
    "# POS\n",
    "print('POS:', eg_sense_1.pos())\n",
    "\n",
    "# Definition\n",
    "print(\"Definition:\", eg_sense_1.definition())\n",
    "\n",
    "# Example Usage\n",
    "print(\"Example Usage:\", '; '.join(eg_sense_1.examples()))"
   ]
  },
  {
   "cell_type": "code",
   "execution_count": 25,
   "id": "f34c72cc",
   "metadata": {},
   "outputs": [
    {
     "name": "stdout",
     "output_type": "stream",
     "text": [
      "Languages available in WN: eng, als, arb, bul, cmn, dan, ell, fin, fra, heb, hrv, isl, ita, ita_iwn, jpn, cat, eus, glg, spa, ind, zsm, nld, nno, nob, pol, por, ron, lit, slk, slv, swe, tha\n"
     ]
    }
   ],
   "source": [
    "# Other Languages usable through wn?\n",
    "\n",
    "print(\"Languages available in WN:\", ', '.join(wn.langs()))"
   ]
  },
  {
   "cell_type": "markdown",
   "id": "95865091",
   "metadata": {},
   "source": [
    "More Languages?"
   ]
  },
  {
   "cell_type": "code",
   "execution_count": 26,
   "id": "6b5bf8fc",
   "metadata": {},
   "outputs": [
    {
     "name": "stdout",
     "output_type": "stream",
     "text": [
      "Requirement already satisfied: pyiwn in /Users/sairishith/miniforge3/envs/cs5293-1/lib/python3.10/site-packages (0.0.5)\n",
      "Requirement already satisfied: pandas in /Users/sairishith/miniforge3/envs/cs5293-1/lib/python3.10/site-packages (from pyiwn) (2.2.3)\n",
      "Requirement already satisfied: requests in /Users/sairishith/miniforge3/envs/cs5293-1/lib/python3.10/site-packages (from pyiwn) (2.32.3)\n",
      "Requirement already satisfied: numpy>=1.22.4 in /Users/sairishith/miniforge3/envs/cs5293-1/lib/python3.10/site-packages (from pandas->pyiwn) (2.2.2)\n",
      "Requirement already satisfied: python-dateutil>=2.8.2 in /Users/sairishith/miniforge3/envs/cs5293-1/lib/python3.10/site-packages (from pandas->pyiwn) (2.9.0.post0)\n",
      "Requirement already satisfied: pytz>=2020.1 in /Users/sairishith/miniforge3/envs/cs5293-1/lib/python3.10/site-packages (from pandas->pyiwn) (2025.1)\n",
      "Requirement already satisfied: tzdata>=2022.7 in /Users/sairishith/miniforge3/envs/cs5293-1/lib/python3.10/site-packages (from pandas->pyiwn) (2025.1)\n",
      "Requirement already satisfied: charset-normalizer<4,>=2 in /Users/sairishith/miniforge3/envs/cs5293-1/lib/python3.10/site-packages (from requests->pyiwn) (3.4.1)\n",
      "Requirement already satisfied: idna<4,>=2.5 in /Users/sairishith/miniforge3/envs/cs5293-1/lib/python3.10/site-packages (from requests->pyiwn) (3.10)\n",
      "Requirement already satisfied: urllib3<3,>=1.21.1 in /Users/sairishith/miniforge3/envs/cs5293-1/lib/python3.10/site-packages (from requests->pyiwn) (2.3.0)\n",
      "Requirement already satisfied: certifi>=2017.4.17 in /Users/sairishith/miniforge3/envs/cs5293-1/lib/python3.10/site-packages (from requests->pyiwn) (2025.1.31)\n",
      "Requirement already satisfied: six>=1.5 in /Users/sairishith/miniforge3/envs/cs5293-1/lib/python3.10/site-packages (from python-dateutil>=2.8.2->pandas->pyiwn) (1.17.0)\n"
     ]
    }
   ],
   "source": [
    "%%bash\n",
    "pip install pyiwn"
   ]
  },
  {
   "cell_type": "markdown",
   "id": "f5800b0c",
   "metadata": {},
   "source": [
    "## [Hindi WordNet]( https://github.com/cfiltnlp/pyiwn)"
   ]
  },
  {
   "cell_type": "code",
   "execution_count": 27,
   "id": "7a2f63fe",
   "metadata": {},
   "outputs": [
    {
     "name": "stderr",
     "output_type": "stream",
     "text": [
      "2025-02-03:00:53:58,410 INFO     [iwn.py:43] Loading hindi language synsets...\n"
     ]
    }
   ],
   "source": [
    "# Hindi Wordnet: https://github.com/cfiltnlp/pyiwn\n",
    "\n",
    "import pyiwn\n",
    "\n",
    "wn_h = pyiwn.IndoWordNet()"
   ]
  },
  {
   "cell_type": "code",
   "execution_count": 28,
   "id": "8c193e08",
   "metadata": {},
   "outputs": [
    {
     "name": "stdout",
     "output_type": "stream",
     "text": [
      "Number of words (lemmas) in Hindi WordNet: 105458\n"
     ]
    }
   ],
   "source": [
    "print('Number of words (lemmas) in Hindi WordNet:', len(wn_h.all_words()))"
   ]
  },
  {
   "cell_type": "code",
   "execution_count": 29,
   "id": "65714d22",
   "metadata": {},
   "outputs": [],
   "source": [
    "# synsets for \"language\" called \"bhaasha\" in Hindi\n",
    "\n",
    "bhaasha_synsets = wn_h.synsets('भाषा')"
   ]
  },
  {
   "cell_type": "code",
   "execution_count": 30,
   "id": "d9c5d016",
   "metadata": {},
   "outputs": [
    {
     "data": {
      "text/plain": [
       "[Synset('वचन.noun.2934'),\n",
       " Synset('सरस्वती.noun.3499'),\n",
       " Synset('भाषा.noun.5489'),\n",
       " Synset('हिंदी.noun.10893'),\n",
       " Synset('अभियोग-पत्र.noun.30944'),\n",
       " Synset('भाषा.noun.40836'),\n",
       " Synset('भाषा.noun.40837'),\n",
       " Synset('भाषा.noun.40838'),\n",
       " Synset('भाषा.noun.40839')]"
      ]
     },
     "execution_count": 30,
     "metadata": {},
     "output_type": "execute_result"
    }
   ],
   "source": [
    "bhaasha_synsets"
   ]
  },
  {
   "cell_type": "code",
   "execution_count": null,
   "id": "76a55ba6",
   "metadata": {},
   "outputs": [],
   "source": []
  }
 ],
 "metadata": {
  "kernelspec": {
   "display_name": "cs5293-1",
   "language": "python",
   "name": "python3"
  },
  "language_info": {
   "codemirror_mode": {
    "name": "ipython",
    "version": 3
   },
   "file_extension": ".py",
   "mimetype": "text/x-python",
   "name": "python",
   "nbconvert_exporter": "python",
   "pygments_lexer": "ipython3",
   "version": "3.10.16"
  }
 },
 "nbformat": 4,
 "nbformat_minor": 5
}
